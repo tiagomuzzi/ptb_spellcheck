{
 "cells": [
  {
   "cell_type": "markdown",
   "id": "c7937cc7",
   "metadata": {},
   "source": [
    "# A rough spellchecker on Brazilian Portuguese\n",
    "\n",
    "This notebook is an attempt to create a very simple brazilian-portuguese spellchecker. It's inspired on [Peter Norvig's](https://norvig.com/) [famous essay](https://norvig.com/spell-correct.html) on the subject and follows the same logic of [this](https://nbviewer.org/url/norvig.com/ipython/How%20to%20Do%20Things%20with%20Words.ipynb) notebook of his."
   ]
  },
  {
   "cell_type": "code",
   "execution_count": 1,
   "id": "296c3562",
   "metadata": {},
   "outputs": [
    {
     "name": "stdout",
     "output_type": "stream",
     "text": [
      "Populating the interactive namespace from numpy and matplotlib\n"
     ]
    }
   ],
   "source": [
    "%pylab inline\n",
    "import re\n",
    "import math\n",
    "import string\n",
    "from collections import Counter\n",
    "from __future__ import division"
   ]
  },
  {
   "cell_type": "markdown",
   "id": "b3d31116",
   "metadata": {},
   "source": [
    "I start with a big .txt file, a collection of many books."
   ]
  },
  {
   "cell_type": "code",
   "execution_count": 27,
   "id": "dd618204",
   "metadata": {},
   "outputs": [],
   "source": [
    "big = open(\"big2.txt\").read()"
   ]
  },
  {
   "cell_type": "code",
   "execution_count": 28,
   "id": "84ef67b2",
   "metadata": {},
   "outputs": [
    {
     "data": {
      "text/plain": [
       "1278839"
      ]
     },
     "execution_count": 28,
     "metadata": {},
     "output_type": "execute_result"
    }
   ],
   "source": [
    "len(big)"
   ]
  },
  {
   "cell_type": "markdown",
   "id": "b8c25cf5",
   "metadata": {},
   "source": [
    "it's made up of 12.8 million characters. How many words are there?"
   ]
  },
  {
   "cell_type": "code",
   "execution_count": 29,
   "id": "b4dd3a03",
   "metadata": {},
   "outputs": [],
   "source": [
    "def tokens(text):\n",
    "    \"a list of all word tokens (consecutive letters bundled together)\"\n",
    "    return re.findall('[a-z_À-ÿ]+', text.lower())"
   ]
  },
  {
   "cell_type": "code",
   "execution_count": 30,
   "id": "43549cbd",
   "metadata": {},
   "outputs": [
    {
     "data": {
      "text/plain": [
       "['testing', 'to', 'see', 'if', 'this', 'works']"
      ]
     },
     "execution_count": 30,
     "metadata": {},
     "output_type": "execute_result"
    }
   ],
   "source": [
    "tokens('testing: to see, if this 1 2 works')"
   ]
  },
  {
   "cell_type": "code",
   "execution_count": 32,
   "id": "e6986b79",
   "metadata": {},
   "outputs": [
    {
     "data": {
      "text/plain": [
       "205713"
      ]
     },
     "execution_count": 32,
     "metadata": {},
     "output_type": "execute_result"
    }
   ],
   "source": [
    "WORDS = tokens(big)\n",
    "len(WORDS)"
   ]
  },
  {
   "cell_type": "markdown",
   "id": "edc73b5c",
   "metadata": {},
   "source": [
    "1.72 million words, the first 10 being:"
   ]
  },
  {
   "cell_type": "code",
   "execution_count": 33,
   "id": "6efa7ab7",
   "metadata": {},
   "outputs": [
    {
     "data": {
      "text/plain": [
       "['resultados',\n",
       " 'da',\n",
       " 'procura',\n",
       " 'de',\n",
       " 'novembro',\n",
       " 'de',\n",
       " 'procura',\n",
       " 'a',\n",
       " 'pedido',\n",
       " 'de']"
      ]
     },
     "execution_count": 33,
     "metadata": {},
     "output_type": "execute_result"
    }
   ],
   "source": [
    "WORDS[:10]"
   ]
  },
  {
   "cell_type": "markdown",
   "id": "1ea8a358",
   "metadata": {},
   "source": [
    "Now we make a ```Counter``` for the ```WORDS``` list"
   ]
  },
  {
   "cell_type": "code",
   "execution_count": 34,
   "id": "69844804",
   "metadata": {},
   "outputs": [
    {
     "data": {
      "text/plain": [
       "[('a', 17184),\n",
       " ('de', 9309),\n",
       " ('par', 7774),\n",
       " ('o', 5067),\n",
       " ('que', 4539),\n",
       " ('e', 4251),\n",
       " ('do', 3749),\n",
       " ('b', 3165),\n",
       " ('da', 3096),\n",
       " ('em', 2312)]"
      ]
     },
     "execution_count": 34,
     "metadata": {},
     "output_type": "execute_result"
    }
   ],
   "source": [
    "COUNTS = Counter(WORDS)\n",
    "COUNTS.most_common(10)"
   ]
  },
  {
   "cell_type": "code",
   "execution_count": 9,
   "id": "78880a2d",
   "metadata": {},
   "outputs": [
    {
     "name": "stdout",
     "output_type": "stream",
     "text": [
      "41 haja\n",
      "198 palavra\n",
      "7 rara\n",
      "862 nesse\n",
      "0 textão\n",
      "92 aí\n"
     ]
    }
   ],
   "source": [
    "for w in tokens('haja palavra rara nesse textão aí'):\n",
    "    print (COUNTS[w], w)"
   ]
  },
  {
   "cell_type": "markdown",
   "id": "f1900e54",
   "metadata": {},
   "source": [
    "Here is a formulation of [Zipf's law](https://en.wikipedia.org/wiki/Zipf%27s_law):\n",
    "\n",
    "_\"given some corpus of natural language utterances, the frequency of any word is inversely proportional to its rank in the frequency table.\"_\n",
    "\n",
    "Since we have a big file of PTB utterances, Let's test the law to see if it holds:"
   ]
  },
  {
   "cell_type": "code",
   "execution_count": 10,
   "id": "a2d3e923",
   "metadata": {},
   "outputs": [
    {
     "data": {
      "image/png": "[encoded data removed]",
      "text/plain": [
       "<Figure size 432x288 with 1 Axes>"
      ]
     },
     "metadata": {
      "needs_background": "light"
     },
     "output_type": "display_data"
    }
   ],
   "source": [
    "M = COUNTS['de']\n",
    "yscale('log'); xscale('log'); title('Frequency of n-th most frequent word and 1/n line.')\n",
    "plot([c for (w,c) in COUNTS.most_common()])\n",
    "plot([M/i for i in range(1, len(COUNTS)+1)]);\n",
    "     \n",
    "     "
   ]
  },
  {
   "cell_type": "markdown",
   "id": "1e4c06c1",
   "metadata": {},
   "source": [
    "# Spelling Correction\n",
    "\n",
    "given a word w, find the most likely correction c= ```correct(w)```.\n",
    "\n",
    "The idea is to get a list of all candidates ```c``` that are known words and that are near w.\n",
    "\n",
    "\"near\" means either one edit away or two edits away.\\\n",
    "\"likely\" is defined by the ```WORDS``` count of any given word.\n",
    "\n",
    "Let us write these functions:"
   ]
  },
  {
   "cell_type": "code",
   "execution_count": 11,
   "id": "0bc256d5",
   "metadata": {},
   "outputs": [],
   "source": [
    "def correct(word):\n",
    "    \"find the best spelling correction for a word\"\n",
    "    # Prefer edit distance 0, then 1, then 2; otherwise default to word itself.\n",
    "    candidates = (known(edits0(word)) or\n",
    "                  known(edits1(word)) or\n",
    "                  known(edits2(word)) or\n",
    "                  [word])\n",
    "    return max(candidates, key=COUNTS.get)"
   ]
  },
  {
   "cell_type": "markdown",
   "id": "f311d7b5",
   "metadata": {},
   "source": [
    "we'll leave the ```edits1``` function for a bit later..."
   ]
  },
  {
   "cell_type": "code",
   "execution_count": 12,
   "id": "010ef7bf",
   "metadata": {},
   "outputs": [],
   "source": [
    "def known(words):\n",
    "    \"return the subset of words that are in the dictionary\"\n",
    "    return {w for w in words if w in COUNTS}\n",
    "\n",
    "def edits0(word):\n",
    "    \"return all strings zero edits away from word\"\n",
    "    return {word}\n",
    "\n",
    "def edits2(word):\n",
    "    \"return all strings two edits away from word\"\n",
    "    return {e2 for e1 in edits1(word) for e2 in edits1(e1)}\n",
    "    "
   ]
  },
  {
   "cell_type": "markdown",
   "id": "bc3e3b4d",
   "metadata": {},
   "source": [
    "For ```edit1(word)``` we'll need to imput the edits themselves. For a PTB example, the word \\*\"oato\" would include the following edits:\n",
    "\n",
    "\"boato\" _rumour_, through **insertion**\\\n",
    "\"ato\" _act_, through **deletion**\\\n",
    "\"pato\" _duck_, through **replacement**\\\n",
    "\\*\"aoto\", through **transposition** \n",
    "\n",
    "To implement these edits, we'll break the original word into pairs at every possible place, and at each place we'll either insert, delete, replace or transpose a leter:\n",
    "\n",
    "\n",
    "|          |          |          |      |          |          |           |\n",
    "| -------- | -------- |--------- |------|--------- |--------- | --------- |\n",
    "| pairs:   | Ø+oato    | o+ato   | oa+to | oat+o    | oato+Ø | *notes: (a,b) pair*\n",
    "| deletions: | Ø+ato   | o+to    | oa+o  |  oat+Ø  |         | *delete first char of b*\n",
    "| transpositions: | Ø+oato   | o+tao    | oa+ot  |        |         | *swap first two chars of b*\n",
    "| replacements: | Ø+?ato   | o+?to    | oa+?o  |  oat+?  |         | *replace chat at start of b*\n",
    "| insertions: | Ø+?+oato   | o+?+ato | oa+?+to  |  oat+?+o  | oato+?+Ø| *insert char between a and b*\n"
   ]
  },
  {
   "cell_type": "code",
   "execution_count": 13,
   "id": "590e3df1",
   "metadata": {},
   "outputs": [],
   "source": [
    "def edits1(word):\n",
    "    \"return all strings that are one edit away from this word\"\n",
    "    pairs      = splits(word)\n",
    "    deletes    = [a+b[1:]            for (a, b) in pairs if b] \n",
    "    transposes = [a+b[1]+b[0]+b[2:]  for (a, b) in pairs if len(b) > 1]\n",
    "    replaces   = [a+c+b[1:]          for (a, b) in pairs for c in alphabet if b]\n",
    "    inserts    = [a+c+b              for (a, b) in pairs for c in alphabet]\n",
    "    return set(deletes + transposes + replaces + inserts)\n",
    "\n",
    "def splits(word):\n",
    "    \"return a list of all possible (first, rest) pairs that comprises word.\"\n",
    "    return [(word[:i], word[i:]) \n",
    "            for i in range(len(word)+1)]\n",
    "\n",
    "alphabet = 'abcdefghijklmnopqrstuvwxyzçéíáàóãüôê'"
   ]
  },
  {
   "cell_type": "code",
   "execution_count": 14,
   "id": "dd475a1c",
   "metadata": {},
   "outputs": [
    {
     "data": {
      "text/plain": [
       "[('', 'oato'), ('o', 'ato'), ('oa', 'to'), ('oat', 'o'), ('oato', '')]"
      ]
     },
     "execution_count": 14,
     "metadata": {},
     "output_type": "execute_result"
    }
   ],
   "source": [
    "splits('oato')"
   ]
  },
  {
   "cell_type": "code",
   "execution_count": 15,
   "id": "521c01b6",
   "metadata": {},
   "outputs": [
    {
     "data": {
      "text/plain": [
       "{'oato'}"
      ]
     },
     "execution_count": 15,
     "metadata": {},
     "output_type": "execute_result"
    }
   ],
   "source": [
    "edits0('oato')"
   ]
  },
  {
   "cell_type": "code",
   "execution_count": 16,
   "id": "f4c62dc5",
   "metadata": {},
   "outputs": [
    {
     "data": {
      "text/plain": [
       "{'aato',\n",
       " 'aoato',\n",
       " 'aoto',\n",
       " 'ato',\n",
       " 'bato',\n",
       " 'boato',\n",
       " 'cato',\n",
       " 'coato',\n",
       " 'dato',\n",
       " 'doato',\n",
       " 'eato',\n",
       " 'eoato',\n",
       " 'fato',\n",
       " 'foato',\n",
       " 'gato',\n",
       " 'goato',\n",
       " 'hato',\n",
       " 'hoato',\n",
       " 'iato',\n",
       " 'ioato',\n",
       " 'jato',\n",
       " 'joato',\n",
       " 'kato',\n",
       " 'koato',\n",
       " 'lato',\n",
       " 'loato',\n",
       " 'mato',\n",
       " 'moato',\n",
       " 'nato',\n",
       " 'noato',\n",
       " 'oaao',\n",
       " 'oaato',\n",
       " 'oabo',\n",
       " 'oabto',\n",
       " 'oaco',\n",
       " 'oacto',\n",
       " 'oado',\n",
       " 'oadto',\n",
       " 'oaeo',\n",
       " 'oaeto',\n",
       " 'oafo',\n",
       " 'oafto',\n",
       " 'oago',\n",
       " 'oagto',\n",
       " 'oaho',\n",
       " 'oahto',\n",
       " 'oaio',\n",
       " 'oaito',\n",
       " 'oajo',\n",
       " 'oajto',\n",
       " 'oako',\n",
       " 'oakto',\n",
       " 'oalo',\n",
       " 'oalto',\n",
       " 'oamo',\n",
       " 'oamto',\n",
       " 'oano',\n",
       " 'oanto',\n",
       " 'oao',\n",
       " 'oaoo',\n",
       " 'oaot',\n",
       " 'oaoto',\n",
       " 'oapo',\n",
       " 'oapto',\n",
       " 'oaqo',\n",
       " 'oaqto',\n",
       " 'oaro',\n",
       " 'oarto',\n",
       " 'oaso',\n",
       " 'oasto',\n",
       " 'oat',\n",
       " 'oata',\n",
       " 'oatao',\n",
       " 'oatb',\n",
       " 'oatbo',\n",
       " 'oatc',\n",
       " 'oatco',\n",
       " 'oatd',\n",
       " 'oatdo',\n",
       " 'oate',\n",
       " 'oateo',\n",
       " 'oatf',\n",
       " 'oatfo',\n",
       " 'oatg',\n",
       " 'oatgo',\n",
       " 'oath',\n",
       " 'oatho',\n",
       " 'oati',\n",
       " 'oatio',\n",
       " 'oatj',\n",
       " 'oatjo',\n",
       " 'oatk',\n",
       " 'oatko',\n",
       " 'oatl',\n",
       " 'oatlo',\n",
       " 'oatm',\n",
       " 'oatmo',\n",
       " 'oatn',\n",
       " 'oatno',\n",
       " 'oato',\n",
       " 'oatoa',\n",
       " 'oatob',\n",
       " 'oatoc',\n",
       " 'oatod',\n",
       " 'oatoe',\n",
       " 'oatof',\n",
       " 'oatog',\n",
       " 'oatoh',\n",
       " 'oatoi',\n",
       " 'oatoj',\n",
       " 'oatok',\n",
       " 'oatol',\n",
       " 'oatom',\n",
       " 'oaton',\n",
       " 'oatoo',\n",
       " 'oatop',\n",
       " 'oatoq',\n",
       " 'oator',\n",
       " 'oatos',\n",
       " 'oatot',\n",
       " 'oatou',\n",
       " 'oatov',\n",
       " 'oatow',\n",
       " 'oatox',\n",
       " 'oatoy',\n",
       " 'oatoz',\n",
       " 'oatoà',\n",
       " 'oatoá',\n",
       " 'oatoã',\n",
       " 'oatoç',\n",
       " 'oatoé',\n",
       " 'oatoê',\n",
       " 'oatoí',\n",
       " 'oatoó',\n",
       " 'oatoô',\n",
       " 'oatoü',\n",
       " 'oatp',\n",
       " 'oatpo',\n",
       " 'oatq',\n",
       " 'oatqo',\n",
       " 'oatr',\n",
       " 'oatro',\n",
       " 'oats',\n",
       " 'oatso',\n",
       " 'oatt',\n",
       " 'oatto',\n",
       " 'oatu',\n",
       " 'oatuo',\n",
       " 'oatv',\n",
       " 'oatvo',\n",
       " 'oatw',\n",
       " 'oatwo',\n",
       " 'oatx',\n",
       " 'oatxo',\n",
       " 'oaty',\n",
       " 'oatyo',\n",
       " 'oatz',\n",
       " 'oatzo',\n",
       " 'oatà',\n",
       " 'oatào',\n",
       " 'oatá',\n",
       " 'oatáo',\n",
       " 'oatã',\n",
       " 'oatão',\n",
       " 'oatç',\n",
       " 'oatço',\n",
       " 'oaté',\n",
       " 'oatéo',\n",
       " 'oatê',\n",
       " 'oatêo',\n",
       " 'oatí',\n",
       " 'oatío',\n",
       " 'oató',\n",
       " 'oatóo',\n",
       " 'oatô',\n",
       " 'oatôo',\n",
       " 'oatü',\n",
       " 'oatüo',\n",
       " 'oauo',\n",
       " 'oauto',\n",
       " 'oavo',\n",
       " 'oavto',\n",
       " 'oawo',\n",
       " 'oawto',\n",
       " 'oaxo',\n",
       " 'oaxto',\n",
       " 'oayo',\n",
       " 'oayto',\n",
       " 'oazo',\n",
       " 'oazto',\n",
       " 'oaào',\n",
       " 'oaàto',\n",
       " 'oaáo',\n",
       " 'oaáto',\n",
       " 'oaão',\n",
       " 'oaãto',\n",
       " 'oaço',\n",
       " 'oaçto',\n",
       " 'oaéo',\n",
       " 'oaéto',\n",
       " 'oaêo',\n",
       " 'oaêto',\n",
       " 'oaío',\n",
       " 'oaíto',\n",
       " 'oaóo',\n",
       " 'oaóto',\n",
       " 'oaôo',\n",
       " 'oaôto',\n",
       " 'oaüo',\n",
       " 'oaüto',\n",
       " 'obato',\n",
       " 'obto',\n",
       " 'ocato',\n",
       " 'octo',\n",
       " 'odato',\n",
       " 'odto',\n",
       " 'oeato',\n",
       " 'oeto',\n",
       " 'ofato',\n",
       " 'ofto',\n",
       " 'ogato',\n",
       " 'ogto',\n",
       " 'ohato',\n",
       " 'ohto',\n",
       " 'oiato',\n",
       " 'oito',\n",
       " 'ojato',\n",
       " 'ojto',\n",
       " 'okato',\n",
       " 'okto',\n",
       " 'olato',\n",
       " 'olto',\n",
       " 'omato',\n",
       " 'omto',\n",
       " 'onato',\n",
       " 'onto',\n",
       " 'ooato',\n",
       " 'ooto',\n",
       " 'opato',\n",
       " 'opto',\n",
       " 'oqato',\n",
       " 'oqto',\n",
       " 'orato',\n",
       " 'orto',\n",
       " 'osato',\n",
       " 'osto',\n",
       " 'otao',\n",
       " 'otato',\n",
       " 'oto',\n",
       " 'otto',\n",
       " 'ouato',\n",
       " 'outo',\n",
       " 'ovato',\n",
       " 'ovto',\n",
       " 'owato',\n",
       " 'owto',\n",
       " 'oxato',\n",
       " 'oxto',\n",
       " 'oyato',\n",
       " 'oyto',\n",
       " 'ozato',\n",
       " 'ozto',\n",
       " 'oàato',\n",
       " 'oàto',\n",
       " 'oáato',\n",
       " 'oáto',\n",
       " 'oãato',\n",
       " 'oãto',\n",
       " 'oçato',\n",
       " 'oçto',\n",
       " 'oéato',\n",
       " 'oéto',\n",
       " 'oêato',\n",
       " 'oêto',\n",
       " 'oíato',\n",
       " 'oíto',\n",
       " 'oóato',\n",
       " 'oóto',\n",
       " 'oôato',\n",
       " 'oôto',\n",
       " 'oüato',\n",
       " 'oüto',\n",
       " 'pato',\n",
       " 'poato',\n",
       " 'qato',\n",
       " 'qoato',\n",
       " 'rato',\n",
       " 'roato',\n",
       " 'sato',\n",
       " 'soato',\n",
       " 'tato',\n",
       " 'toato',\n",
       " 'uato',\n",
       " 'uoato',\n",
       " 'vato',\n",
       " 'voato',\n",
       " 'wato',\n",
       " 'woato',\n",
       " 'xato',\n",
       " 'xoato',\n",
       " 'yato',\n",
       " 'yoato',\n",
       " 'zato',\n",
       " 'zoato',\n",
       " 'àato',\n",
       " 'àoato',\n",
       " 'áato',\n",
       " 'áoato',\n",
       " 'ãato',\n",
       " 'ãoato',\n",
       " 'çato',\n",
       " 'çoato',\n",
       " 'éato',\n",
       " 'éoato',\n",
       " 'êato',\n",
       " 'êoato',\n",
       " 'íato',\n",
       " 'íoato',\n",
       " 'óato',\n",
       " 'óoato',\n",
       " 'ôato',\n",
       " 'ôoato',\n",
       " 'üato',\n",
       " 'üoato'}"
      ]
     },
     "execution_count": 16,
     "metadata": {},
     "output_type": "execute_result"
    }
   ],
   "source": [
    "edits1('oato')"
   ]
  },
  {
   "cell_type": "code",
   "execution_count": 17,
   "id": "cd0490f7",
   "metadata": {},
   "outputs": [
    {
     "data": {
      "text/plain": [
       "324"
      ]
     },
     "execution_count": 17,
     "metadata": {},
     "output_type": "execute_result"
    }
   ],
   "source": [
    "len(edits1('oato'))"
   ]
  },
  {
   "cell_type": "code",
   "execution_count": 23,
   "id": "13a07ca0",
   "metadata": {},
   "outputs": [
    {
     "data": {
      "text/plain": [
       "46903"
      ]
     },
     "execution_count": 23,
     "metadata": {},
     "output_type": "execute_result"
    }
   ],
   "source": [
    "len(edits2('oato'))"
   ]
  },
  {
   "cell_type": "code",
   "execution_count": 21,
   "id": "3c2d1088",
   "metadata": {},
   "outputs": [
    {
     "data": {
      "text/plain": [
       "['pour']"
      ]
     },
     "execution_count": 21,
     "metadata": {},
     "output_type": "execute_result"
    }
   ],
   "source": [
    "list(map(correct, tokens()))"
   ]
  },
  {
   "cell_type": "code",
   "execution_count": null,
   "id": "35146edc",
   "metadata": {},
   "outputs": [],
   "source": []
  },
  {
   "cell_type": "code",
   "execution_count": null,
   "id": "8ffb6a2f",
   "metadata": {},
   "outputs": [],
   "source": []
  }
 ],
 "metadata": {
  "kernelspec": {
   "display_name": "Python 3 (ipykernel)",
   "language": "python",
   "name": "python3"
  },
  "language_info": {
   "codemirror_mode": {
    "name": "ipython",
    "version": 3
   },
   "file_extension": ".py",
   "mimetype": "text/x-python",
   "name": "python",
   "nbconvert_exporter": "python",
   "pygments_lexer": "ipython3",
   "version": "3.8.2"
  }
 },
 "nbformat": 4,
 "nbformat_minor": 5
}
