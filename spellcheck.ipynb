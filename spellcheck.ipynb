{
 "cells": [
  {
   "cell_type": "markdown",
   "id": "1a3baea7",
   "metadata": {},
   "source": [
    "# A rough spellchecker on Brazilian Portuguese\n",
    "\n",
    "This notebook is an attempt to create a very simple brazilian-portuguese spellchecker. It's inspired on [Peter Norvig's](https://norvig.com/) [famous essay](https://norvig.com/spell-correct.html) on the subject and follows the same logic of [this](https://nbviewer.org/url/norvig.com/ipython/How%20to%20Do%20Things%20with%20Words.ipynb) notebook of his."
   ]
  },
  {
   "cell_type": "code",
   "execution_count": 76,
   "id": "1601f466",
   "metadata": {},
   "outputs": [
    {
     "name": "stdout",
     "output_type": "stream",
     "text": [
      "Populating the interactive namespace from numpy and matplotlib\n"
     ]
    },
    {
     "name": "stderr",
     "output_type": "stream",
     "text": [
      "/Users/TiagoMuzzi/Documents/environments/project1_env/lib/python3.8/site-packages/IPython/core/magics/pylab.py:159: UserWarning: pylab import has clobbered these variables: ['text']\n",
      "`%matplotlib` prevents importing * from pylab and numpy\n",
      "  warn(\"pylab import has clobbered these variables: %s\"  % clobbered +\n"
     ]
    }
   ],
   "source": [
    "%pylab inline\n",
    "import re\n",
    "import math\n",
    "import string\n",
    "from collections import Counter\n",
    "from __future__ import division"
   ]
  },
  {
   "cell_type": "markdown",
   "id": "9648ef18",
   "metadata": {},
   "source": [
    "I start with a big .txt file, a collection of many books."
   ]
  },
  {
   "cell_type": "code",
   "execution_count": 77,
   "id": "eaf4cf9c",
   "metadata": {
    "scrolled": true
   },
   "outputs": [],
   "source": [
    "big = open(\"big.txt\").read()"
   ]
  },
  {
   "cell_type": "code",
   "execution_count": 78,
   "id": "cfd9d943",
   "metadata": {},
   "outputs": [
    {
     "data": {
      "text/plain": [
       "10979444"
      ]
     },
     "execution_count": 78,
     "metadata": {},
     "output_type": "execute_result"
    }
   ],
   "source": [
    "len(big)"
   ]
  },
  {
   "cell_type": "markdown",
   "id": "f603a8f6",
   "metadata": {},
   "source": [
    "it's made up of almost 11 million characters. How many words are there?"
   ]
  },
  {
   "cell_type": "code",
   "execution_count": 79,
   "id": "6101bc3f",
   "metadata": {},
   "outputs": [],
   "source": [
    "def tokens(text):\n",
    "    \"a list of all word tokens (consecutive letters bundled together)\"\n",
    "    return re.findall('[a-z_À-ÿ]+', text.lower())"
   ]
  },
  {
   "cell_type": "code",
   "execution_count": 80,
   "id": "b7ed6755",
   "metadata": {},
   "outputs": [
    {
     "data": {
      "text/plain": [
       "['testing', 'to', 'see', 'if', 'this', 'works']"
      ]
     },
     "execution_count": 80,
     "metadata": {},
     "output_type": "execute_result"
    }
   ],
   "source": [
    "tokens('testing: to see, if this 1 2 works')"
   ]
  },
  {
   "cell_type": "code",
   "execution_count": 81,
   "id": "b96bbcbe",
   "metadata": {},
   "outputs": [
    {
     "data": {
      "text/plain": [
       "1728255"
      ]
     },
     "execution_count": 81,
     "metadata": {},
     "output_type": "execute_result"
    }
   ],
   "source": [
    "WORDS = tokens(big)\n",
    "len(WORDS)"
   ]
  },
  {
   "cell_type": "markdown",
   "id": "296d51cb",
   "metadata": {},
   "source": [
    "1.72 million words, the first 10 being:"
   ]
  },
  {
   "cell_type": "code",
   "execution_count": 82,
   "id": "736fd379",
   "metadata": {},
   "outputs": [
    {
     "data": {
      "text/plain": [
       "['dom',\n",
       " 'casmurro',\n",
       " 'machado',\n",
       " 'de',\n",
       " 'assis',\n",
       " 'capítulo',\n",
       " 'primeiro',\n",
       " 'do',\n",
       " 'título',\n",
       " 'uma']"
      ]
     },
     "execution_count": 82,
     "metadata": {},
     "output_type": "execute_result"
    }
   ],
   "source": [
    "WORDS[:10]"
   ]
  },
  {
   "cell_type": "markdown",
   "id": "c7de4d82",
   "metadata": {},
   "source": [
    "Now we make a ```Counter``` for the ```WORDS``` list"
   ]
  },
  {
   "cell_type": "code",
   "execution_count": 83,
   "id": "489db84c",
   "metadata": {},
   "outputs": [
    {
     "data": {
      "text/plain": [
       "[('de', 92446),\n",
       " ('a', 59853),\n",
       " ('o', 47207),\n",
       " ('que', 42196),\n",
       " ('e', 40125),\n",
       " ('do', 37411),\n",
       " ('em', 28249),\n",
       " ('da', 27050),\n",
       " ('se', 21200),\n",
       " ('é', 17898)]"
      ]
     },
     "execution_count": 83,
     "metadata": {},
     "output_type": "execute_result"
    }
   ],
   "source": [
    "COUNTS = Counter(WORDS)\n",
    "COUNTS.most_common(10)"
   ]
  },
  {
   "cell_type": "code",
   "execution_count": 84,
   "id": "8d991682",
   "metadata": {},
   "outputs": [
    {
     "name": "stdout",
     "output_type": "stream",
     "text": [
      "44 haja\n",
      "208 palavra\n",
      "7 rara\n",
      "874 nesse\n",
      "0 textão\n",
      "92 aí\n"
     ]
    }
   ],
   "source": [
    "for w in tokens('haja palavra rara nesse textão aí'):\n",
    "    print (COUNTS[w], w)"
   ]
  },
  {
   "cell_type": "markdown",
   "id": "c1917f12",
   "metadata": {},
   "source": [
    "Here is a formulation of [Zipf's law](https://en.wikipedia.org/wiki/Zipf%27s_law):\n",
    "\n",
    "_\"given some corpus of natural language utterances, the frequency of any word is inversely proportional to its rank in the frequency table.\"_\n",
    "\n",
    "Since we have a big file of PTB utterances, Let's test the law to see if it holds:"
   ]
  },
  {
   "cell_type": "code",
   "execution_count": 85,
   "id": "c1ed8e00",
   "metadata": {},
   "outputs": [
    {
     "data": {
      "image/png": "[encoded data removed]",
      "text/plain": [
       "<Figure size 432x288 with 1 Axes>"
      ]
     },
     "metadata": {
      "needs_background": "light"
     },
     "output_type": "display_data"
    }
   ],
   "source": [
    "M = COUNTS['de']\n",
    "yscale('log'); xscale('log'); title('Frequency of n-th most frequent word and 1/n line.')\n",
    "plot([c for (w,c) in COUNTS.most_common()])\n",
    "plot([M/i for i in range(1, len(COUNTS)+1)]);\n",
    "     \n",
    "     "
   ]
  },
  {
   "cell_type": "markdown",
   "id": "ed3206e5",
   "metadata": {},
   "source": [
    "# Spelling Correction\n",
    "\n",
    "given a word w, find the most likely correction c= ```correct(w)```.\n",
    "\n",
    "The idea is to get a list of all candidates ```c``` that are known words and that are near w.\n",
    "\n",
    "\"near\" means either one edit away or two edits away.\\\n",
    "\"likely\" is defined by the ```WORDS``` count of any given word.\n",
    "\n",
    "Let us write these functions:"
   ]
  },
  {
   "cell_type": "code",
   "execution_count": 86,
   "id": "4cf43fff",
   "metadata": {},
   "outputs": [],
   "source": [
    "def correct(word):\n",
    "    \"find the best spelling correction for a word\"\n",
    "    # Prefer edit distance 0, then 1, then 2; otherwise default to word itself.\n",
    "    candidates = (known(edits0(word)) or\n",
    "                  known(edits1(word)) or\n",
    "                  known(edits2(word)) or\n",
    "                  [word])\n",
    "    return max(candidates, key=COUNTS.get)"
   ]
  },
  {
   "cell_type": "markdown",
   "id": "c1bc303a",
   "metadata": {},
   "source": [
    "we'll leave the ```edits1``` function for a bit later..."
   ]
  },
  {
   "cell_type": "code",
   "execution_count": 88,
   "id": "77e7de57",
   "metadata": {},
   "outputs": [],
   "source": [
    "def known(words):\n",
    "    \"return the subset of words that are in the dictionary\"\n",
    "    return {w for w in words if w in COUNTS}\n",
    "\n",
    "def edits0(word):\n",
    "    \"return all strings zero edits away from word\"\n",
    "    return {word}\n",
    "\n",
    "def edits2(word):\n",
    "    \"return all strings two edits away from word\"\n",
    "    return {e2 for e1 in edits1(word) for e2 in edits1(e1)}\n",
    "    "
   ]
  },
  {
   "cell_type": "markdown",
   "id": "ca66fa15",
   "metadata": {},
   "source": [
    "|  |  |\n",
    "| --- | ----------- |\n",
    "| Header | Title |\n",
    "| Paragraph | Text |"
   ]
  },
  {
   "cell_type": "code",
   "execution_count": null,
   "id": "c2f29e2b",
   "metadata": {},
   "outputs": [],
   "source": []
  }
 ],
 "metadata": {
  "kernelspec": {
   "display_name": "Python 3 (ipykernel)",
   "language": "python",
   "name": "python3"
  },
  "language_info": {
   "codemirror_mode": {
    "name": "ipython",
    "version": 3
   },
   "file_extension": ".py",
   "mimetype": "text/x-python",
   "name": "python",
   "nbconvert_exporter": "python",
   "pygments_lexer": "ipython3",
   "version": "3.8.2"
  }
 },
 "nbformat": 4,
 "nbformat_minor": 5
}
