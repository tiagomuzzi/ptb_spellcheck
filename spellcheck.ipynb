{
 "cells": [
  {
   "cell_type": "markdown",
   "id": "e38132c5",
   "metadata": {},
   "source": [
    "# A rough spellchecker on Brazilian Portuguese\n",
    "\n",
    "This notebook is an attempt to create a very simple brazilian-portuguese spellchecker. It's inspired on [Peter Norvig's](https://norvig.com/) [famous essay](https://norvig.com/spell-correct.html) on the subject and follows the same logic of [this](https://nbviewer.org/url/norvig.com/ipython/How%20to%20Do%20Things%20with%20Words.ipynb) notebook of his."
   ]
  },
  {
   "cell_type": "code",
   "execution_count": 11,
   "id": "23123749",
   "metadata": {},
   "outputs": [],
   "source": [
    "import os\n",
    "import re\n",
    "from collections import Counter"
   ]
  },
  {
   "cell_type": "markdown",
   "id": "0520e665",
   "metadata": {},
   "source": [
    "I start with a big .txt file, a collection of many books."
   ]
  },
  {
   "cell_type": "code",
   "execution_count": 15,
   "id": "a5672d8e",
   "metadata": {
    "scrolled": true
   },
   "outputs": [],
   "source": [
    "big = open(\"big.txt\").read()"
   ]
  },
  {
   "cell_type": "code",
   "execution_count": 16,
   "id": "d9951f2e",
   "metadata": {},
   "outputs": [
    {
     "data": {
      "text/plain": [
       "10979444"
      ]
     },
     "execution_count": 16,
     "metadata": {},
     "output_type": "execute_result"
    }
   ],
   "source": [
    "len(big)"
   ]
  },
  {
   "cell_type": "markdown",
   "id": "adb91987",
   "metadata": {},
   "source": [
    "it's made up of almost 11 million characters. How many words are there?"
   ]
  },
  {
   "cell_type": "code",
   "execution_count": 52,
   "id": "c1f039a9",
   "metadata": {},
   "outputs": [],
   "source": [
    "def tokens(text):\n",
    "    \"a list of all word tokens (consecutive letters bundled together)\"\n",
    "    return re.findall('[a-z_À-ÿ]+', text.lower())"
   ]
  },
  {
   "cell_type": "code",
   "execution_count": 53,
   "id": "7cd140f2",
   "metadata": {},
   "outputs": [
    {
     "data": {
      "text/plain": [
       "['testing', 'to', 'see', 'if', 'this', 'works']"
      ]
     },
     "execution_count": 53,
     "metadata": {},
     "output_type": "execute_result"
    }
   ],
   "source": [
    "tokens('testing: to see, if this 1 2 works')"
   ]
  },
  {
   "cell_type": "code",
   "execution_count": 56,
   "id": "a5ec4713",
   "metadata": {},
   "outputs": [
    {
     "data": {
      "text/plain": [
       "1728255"
      ]
     },
     "execution_count": 56,
     "metadata": {},
     "output_type": "execute_result"
    }
   ],
   "source": [
    "WORDS = tokens(big)\n",
    "len(WORDS)"
   ]
  },
  {
   "cell_type": "markdown",
   "id": "92eaadd4",
   "metadata": {},
   "source": [
    "1.72 million words, the first 10 being:"
   ]
  },
  {
   "cell_type": "code",
   "execution_count": 59,
   "id": "71da4e02",
   "metadata": {},
   "outputs": [
    {
     "data": {
      "text/plain": [
       "['dom',\n",
       " 'casmurro',\n",
       " 'machado',\n",
       " 'de',\n",
       " 'assis',\n",
       " 'capítulo',\n",
       " 'primeiro',\n",
       " 'do',\n",
       " 'título',\n",
       " 'uma']"
      ]
     },
     "execution_count": 59,
     "metadata": {},
     "output_type": "execute_result"
    }
   ],
   "source": [
    "WORDS[:10]"
   ]
  },
  {
   "cell_type": "markdown",
   "id": "9307a274",
   "metadata": {},
   "source": [
    "Now we make a ```Counter``` for the ```WORDS``` list"
   ]
  },
  {
   "cell_type": "code",
   "execution_count": 62,
   "id": "35ee9440",
   "metadata": {},
   "outputs": [
    {
     "data": {
      "text/plain": [
       "[('de', 92446),\n",
       " ('a', 59853),\n",
       " ('o', 47207),\n",
       " ('que', 42196),\n",
       " ('e', 40125),\n",
       " ('do', 37411),\n",
       " ('em', 28249),\n",
       " ('da', 27050),\n",
       " ('se', 21200),\n",
       " ('é', 17898)]"
      ]
     },
     "execution_count": 62,
     "metadata": {},
     "output_type": "execute_result"
    }
   ],
   "source": [
    "COUNTS = Counter(WORDS)\n",
    "COUNTS.most_common(10)"
   ]
  },
  {
   "cell_type": "code",
   "execution_count": 70,
   "id": "9859ae33",
   "metadata": {},
   "outputs": [
    {
     "name": "stdout",
     "output_type": "stream",
     "text": [
      "44 haja\n",
      "208 palavra\n",
      "7 rara\n",
      "874 nesse\n",
      "0 textão\n",
      "92 aí\n"
     ]
    }
   ],
   "source": [
    "for w in tokens('haja palavra rara nesse textão aí'):\n",
    "    print (COUNTS[w], w)"
   ]
  },
  {
   "cell_type": "code",
   "execution_count": null,
   "id": "1ddbddc4",
   "metadata": {},
   "outputs": [],
   "source": []
  }
 ],
 "metadata": {
  "kernelspec": {
   "display_name": "Python 3 (ipykernel)",
   "language": "python",
   "name": "python3"
  },
  "language_info": {
   "codemirror_mode": {
    "name": "ipython",
    "version": 3
   },
   "file_extension": ".py",
   "mimetype": "text/x-python",
   "name": "python",
   "nbconvert_exporter": "python",
   "pygments_lexer": "ipython3",
   "version": "3.8.2"
  }
 },
 "nbformat": 4,
 "nbformat_minor": 5
}
